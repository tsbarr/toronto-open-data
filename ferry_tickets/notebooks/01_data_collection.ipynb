{
 "cells": [
  {
   "cell_type": "code",
   "execution_count": 1,
   "metadata": {},
   "outputs": [],
   "source": [
    "import sys\n",
    "sys.path.append('../..')\n",
    "\n",
    "from common.toronto_api import TorontoOpenDataAPI\n",
    "from common.data_processors import FerryDataProcessor\n",
    "import ferry_tickets.src.ferry_analysis as an\n",
    "\n",
    "import pandas as pd"
   ]
  },
  {
   "cell_type": "code",
   "execution_count": 2,
   "metadata": {},
   "outputs": [],
   "source": [
    "# Initialize API client and get package metadata using id\n",
    "client = TorontoOpenDataAPI('toronto-island-ferry-ticket-counts')\n",
    "# Check resources in package\n",
    "# client.show_resources_info()"
   ]
  },
  {
   "cell_type": "code",
   "execution_count": 3,
   "metadata": {},
   "outputs": [
    {
     "data": {
      "text/html": [
       "<div>\n",
       "<style scoped>\n",
       "    .dataframe tbody tr th:only-of-type {\n",
       "        vertical-align: middle;\n",
       "    }\n",
       "\n",
       "    .dataframe tbody tr th {\n",
       "        vertical-align: top;\n",
       "    }\n",
       "\n",
       "    .dataframe thead th {\n",
       "        text-align: right;\n",
       "    }\n",
       "</style>\n",
       "<table border=\"1\" class=\"dataframe\">\n",
       "  <thead>\n",
       "    <tr style=\"text-align: right;\">\n",
       "      <th></th>\n",
       "      <th>_id</th>\n",
       "      <th>Timestamp</th>\n",
       "      <th>Redemption Count</th>\n",
       "      <th>Sales Count</th>\n",
       "    </tr>\n",
       "  </thead>\n",
       "  <tbody>\n",
       "    <tr>\n",
       "      <th>0</th>\n",
       "      <td>1</td>\n",
       "      <td>2024-11-29T11:30:00</td>\n",
       "      <td>23</td>\n",
       "      <td>25</td>\n",
       "    </tr>\n",
       "    <tr>\n",
       "      <th>1</th>\n",
       "      <td>2</td>\n",
       "      <td>2024-11-29T11:15:00</td>\n",
       "      <td>7</td>\n",
       "      <td>1</td>\n",
       "    </tr>\n",
       "    <tr>\n",
       "      <th>2</th>\n",
       "      <td>3</td>\n",
       "      <td>2024-11-29T11:00:00</td>\n",
       "      <td>5</td>\n",
       "      <td>8</td>\n",
       "    </tr>\n",
       "    <tr>\n",
       "      <th>3</th>\n",
       "      <td>4</td>\n",
       "      <td>2024-11-29T10:45:00</td>\n",
       "      <td>1</td>\n",
       "      <td>0</td>\n",
       "    </tr>\n",
       "    <tr>\n",
       "      <th>4</th>\n",
       "      <td>5</td>\n",
       "      <td>2024-11-29T10:30:00</td>\n",
       "      <td>28</td>\n",
       "      <td>22</td>\n",
       "    </tr>\n",
       "  </tbody>\n",
       "</table>\n",
       "</div>"
      ],
      "text/plain": [
       "   _id            Timestamp  Redemption Count  Sales Count\n",
       "0    1  2024-11-29T11:30:00                23           25\n",
       "1    2  2024-11-29T11:15:00                 7            1\n",
       "2    3  2024-11-29T11:00:00                 5            8\n",
       "3    4  2024-11-29T10:45:00                 1            0\n",
       "4    5  2024-11-29T10:30:00                28           22"
      ]
     },
     "execution_count": 3,
     "metadata": {},
     "output_type": "execute_result"
    }
   ],
   "source": [
    "# Get data from first listed resource, which is the active datastore\n",
    "df = client.get_resource_data()\n",
    "df.head()"
   ]
  },
  {
   "cell_type": "code",
   "execution_count": 4,
   "metadata": {},
   "outputs": [
    {
     "name": "stdout",
     "output_type": "stream",
     "text": [
      "latest:\t2024-11-29\n",
      "today:\t2024-11-29\n"
     ]
    },
    {
     "data": {
      "text/html": [
       "<div>\n",
       "<style scoped>\n",
       "    .dataframe tbody tr th:only-of-type {\n",
       "        vertical-align: middle;\n",
       "    }\n",
       "\n",
       "    .dataframe tbody tr th {\n",
       "        vertical-align: top;\n",
       "    }\n",
       "\n",
       "    .dataframe thead th {\n",
       "        text-align: right;\n",
       "    }\n",
       "</style>\n",
       "<table border=\"1\" class=\"dataframe\">\n",
       "  <thead>\n",
       "    <tr style=\"text-align: right;\">\n",
       "      <th></th>\n",
       "      <th>_id</th>\n",
       "      <th>Timestamp</th>\n",
       "      <th>Redemption Count</th>\n",
       "      <th>Sales Count</th>\n",
       "      <th>datetimeTimestamp</th>\n",
       "      <th>isToday</th>\n",
       "      <th>isLatest</th>\n",
       "    </tr>\n",
       "  </thead>\n",
       "  <tbody>\n",
       "    <tr>\n",
       "      <th>0</th>\n",
       "      <td>1</td>\n",
       "      <td>2024-11-29T11:30:00</td>\n",
       "      <td>23</td>\n",
       "      <td>25</td>\n",
       "      <td>2024-11-29 11:30:00</td>\n",
       "      <td>True</td>\n",
       "      <td>True</td>\n",
       "    </tr>\n",
       "    <tr>\n",
       "      <th>1</th>\n",
       "      <td>2</td>\n",
       "      <td>2024-11-29T11:15:00</td>\n",
       "      <td>7</td>\n",
       "      <td>1</td>\n",
       "      <td>2024-11-29 11:15:00</td>\n",
       "      <td>True</td>\n",
       "      <td>True</td>\n",
       "    </tr>\n",
       "    <tr>\n",
       "      <th>2</th>\n",
       "      <td>3</td>\n",
       "      <td>2024-11-29T11:00:00</td>\n",
       "      <td>5</td>\n",
       "      <td>8</td>\n",
       "      <td>2024-11-29 11:00:00</td>\n",
       "      <td>True</td>\n",
       "      <td>True</td>\n",
       "    </tr>\n",
       "    <tr>\n",
       "      <th>3</th>\n",
       "      <td>4</td>\n",
       "      <td>2024-11-29T10:45:00</td>\n",
       "      <td>1</td>\n",
       "      <td>0</td>\n",
       "      <td>2024-11-29 10:45:00</td>\n",
       "      <td>True</td>\n",
       "      <td>True</td>\n",
       "    </tr>\n",
       "    <tr>\n",
       "      <th>4</th>\n",
       "      <td>5</td>\n",
       "      <td>2024-11-29T10:30:00</td>\n",
       "      <td>28</td>\n",
       "      <td>22</td>\n",
       "      <td>2024-11-29 10:30:00</td>\n",
       "      <td>True</td>\n",
       "      <td>True</td>\n",
       "    </tr>\n",
       "  </tbody>\n",
       "</table>\n",
       "</div>"
      ],
      "text/plain": [
       "   _id            Timestamp  Redemption Count  Sales Count  \\\n",
       "0    1  2024-11-29T11:30:00                23           25   \n",
       "1    2  2024-11-29T11:15:00                 7            1   \n",
       "2    3  2024-11-29T11:00:00                 5            8   \n",
       "3    4  2024-11-29T10:45:00                 1            0   \n",
       "4    5  2024-11-29T10:30:00                28           22   \n",
       "\n",
       "    datetimeTimestamp  isToday  isLatest  \n",
       "0 2024-11-29 11:30:00     True      True  \n",
       "1 2024-11-29 11:15:00     True      True  \n",
       "2 2024-11-29 11:00:00     True      True  \n",
       "3 2024-11-29 10:45:00     True      True  \n",
       "4 2024-11-29 10:30:00     True      True  "
      ]
     },
     "execution_count": 4,
     "metadata": {},
     "output_type": "execute_result"
    }
   ],
   "source": [
    "# Process data using data processor\n",
    "df = FerryDataProcessor().process_resource(df)\n",
    "df.head()\n"
   ]
  },
  {
   "cell_type": "code",
   "execution_count": 5,
   "metadata": {},
   "outputs": [],
   "source": [
    "# Update saved csv\n",
    "df.to_csv(\n",
    "    '../data/processed/Toronto Island Ferry Ticket Counts.csv',\n",
    "    header=True,\n",
    "    index=False\n",
    ")"
   ]
  },
  {
   "cell_type": "markdown",
   "metadata": {},
   "source": [
    "\n",
    "---"
   ]
  }
 ],
 "metadata": {
  "kernelspec": {
   "display_name": "dev",
   "language": "python",
   "name": "python3"
  },
  "language_info": {
   "codemirror_mode": {
    "name": "ipython",
    "version": 3
   },
   "file_extension": ".py",
   "mimetype": "text/x-python",
   "name": "python",
   "nbconvert_exporter": "python",
   "pygments_lexer": "ipython3",
   "version": "3.10.12"
  }
 },
 "nbformat": 4,
 "nbformat_minor": 2
}
